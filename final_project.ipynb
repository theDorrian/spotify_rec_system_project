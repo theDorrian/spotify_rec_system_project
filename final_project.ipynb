{
 "cells": [
  {
   "cell_type": "code",
   "execution_count": 1,
   "id": "50debd2f",
   "metadata": {},
   "outputs": [],
   "source": [
    "import json, re, ast, os\n",
    "from pathlib import Path\n",
    "from typing import Optional, List\n",
    "\n",
    "import numpy as np\n",
    "import pandas as pd\n",
    "from tqdm import tqdm\n",
    "\n",
    "from sklearn.preprocessing import StandardScaler, MultiLabelBinarizer\n",
    "from sklearn.preprocessing import normalize as sk_normalize\n",
    "from scipy import sparse\n",
    "from annoy import AnnoyIndex\n",
    "import joblib"
   ]
  },
  {
   "cell_type": "code",
   "execution_count": 2,
   "id": "447d7f30",
   "metadata": {},
   "outputs": [],
   "source": [
    "tqdm.pandas()"
   ]
  },
  {
   "cell_type": "code",
   "execution_count": 3,
   "id": "7fc07230",
   "metadata": {},
   "outputs": [],
   "source": [
    "COMMON_AUDIO_FEATS = [\n",
    "    \"danceability\",\"energy\",\"valence\",\"acousticness\",\"instrumentalness\",\n",
    "    \"liveness\",\"speechiness\",\"tempo\",\"loudness\",\"duration_ms\",\n",
    "]"
   ]
  },
  {
   "cell_type": "code",
   "execution_count": 4,
   "id": "41c33457",
   "metadata": {},
   "outputs": [],
   "source": [
    "def std_cols(df: pd.DataFrame) -> pd.DataFrame:\n",
    "    df = df.copy()\n",
    "    df.columns = [re.sub(r\"\\s+\", \"_\", c.strip().lower()) for c in df.columns]\n",
    "    return df"
   ]
  },
  {
   "cell_type": "code",
   "execution_count": 5,
   "id": "d4ef81c5",
   "metadata": {},
   "outputs": [],
   "source": [
    "def pick(cols, *cands) -> Optional[str]:\n",
    "    s = set(cols)\n",
    "    for c in cands:\n",
    "        if c in s:\n",
    "            return c\n",
    "    return None"
   ]
  },
  {
   "cell_type": "code",
   "execution_count": 6,
   "id": "b46ceb2a",
   "metadata": {},
   "outputs": [],
   "source": [
    "def parse_genres_col(s: pd.Series) -> List[List[str]]:\n",
    "    out = []\n",
    "    for x in s.fillna(\"\"):\n",
    "        if isinstance(x, list):\n",
    "            out.append([str(t).strip().lower() for t in x if str(t).strip()])\n",
    "        elif isinstance(x, str):\n",
    "            x = x.strip()\n",
    "            if not x:\n",
    "                out.append([]); continue\n",
    "            try:\n",
    "                val = ast.literal_eval(x)\n",
    "                if isinstance(val, (list, tuple)):\n",
    "                    out.append([str(t).strip().lower() for t in val if str(t).strip()])\n",
    "                else:\n",
    "                    out.append([t.strip().lower() for t in x.split(\",\") if t.strip()])\n",
    "            except Exception:\n",
    "                out.append([t.strip().lower() for t in x.split(\",\") if t.strip()])\n",
    "        else:\n",
    "            out.append([])\n",
    "    return out"
   ]
  },
  {
   "cell_type": "code",
   "execution_count": 7,
   "id": "d7f0693b",
   "metadata": {},
   "outputs": [],
   "source": [
    "DATA_PATH = Path(\"data/spotify_tracks.csv\")\n",
    "ART_DIR   = Path(\"artifacts\")\n",
    "ART_DIR.mkdir(parents=True, exist_ok=True)"
   ]
  },
  {
   "cell_type": "code",
   "execution_count": 8,
   "id": "2162d9d7",
   "metadata": {},
   "outputs": [
    {
     "data": {
      "text/html": [
       "<div>\n",
       "<style scoped>\n",
       "    .dataframe tbody tr th:only-of-type {\n",
       "        vertical-align: middle;\n",
       "    }\n",
       "\n",
       "    .dataframe tbody tr th {\n",
       "        vertical-align: top;\n",
       "    }\n",
       "\n",
       "    .dataframe thead th {\n",
       "        text-align: right;\n",
       "    }\n",
       "</style>\n",
       "<table border=\"1\" class=\"dataframe\">\n",
       "  <thead>\n",
       "    <tr style=\"text-align: right;\">\n",
       "      <th></th>\n",
       "      <th>genre</th>\n",
       "      <th>artist_name</th>\n",
       "      <th>track_name</th>\n",
       "      <th>track_id</th>\n",
       "      <th>popularity</th>\n",
       "      <th>acousticness</th>\n",
       "      <th>danceability</th>\n",
       "      <th>duration_ms</th>\n",
       "      <th>energy</th>\n",
       "      <th>instrumentalness</th>\n",
       "      <th>key</th>\n",
       "      <th>liveness</th>\n",
       "      <th>loudness</th>\n",
       "      <th>mode</th>\n",
       "      <th>speechiness</th>\n",
       "      <th>tempo</th>\n",
       "      <th>time_signature</th>\n",
       "      <th>valence</th>\n",
       "    </tr>\n",
       "  </thead>\n",
       "  <tbody>\n",
       "    <tr>\n",
       "      <th>0</th>\n",
       "      <td>Movie</td>\n",
       "      <td>Henri Salvador</td>\n",
       "      <td>C'est beau de faire un Show</td>\n",
       "      <td>0BRjO6ga9RKCKjfDqeFgWV</td>\n",
       "      <td>0</td>\n",
       "      <td>0.611</td>\n",
       "      <td>0.389</td>\n",
       "      <td>99373</td>\n",
       "      <td>0.910</td>\n",
       "      <td>0.000</td>\n",
       "      <td>C#</td>\n",
       "      <td>0.3460</td>\n",
       "      <td>-1.828</td>\n",
       "      <td>Major</td>\n",
       "      <td>0.0525</td>\n",
       "      <td>166.969</td>\n",
       "      <td>4/4</td>\n",
       "      <td>0.814</td>\n",
       "    </tr>\n",
       "    <tr>\n",
       "      <th>1</th>\n",
       "      <td>Movie</td>\n",
       "      <td>Martin &amp; les fées</td>\n",
       "      <td>Perdu d'avance (par Gad Elmaleh)</td>\n",
       "      <td>0BjC1NfoEOOusryehmNudP</td>\n",
       "      <td>1</td>\n",
       "      <td>0.246</td>\n",
       "      <td>0.590</td>\n",
       "      <td>137373</td>\n",
       "      <td>0.737</td>\n",
       "      <td>0.000</td>\n",
       "      <td>F#</td>\n",
       "      <td>0.1510</td>\n",
       "      <td>-5.559</td>\n",
       "      <td>Minor</td>\n",
       "      <td>0.0868</td>\n",
       "      <td>174.003</td>\n",
       "      <td>4/4</td>\n",
       "      <td>0.816</td>\n",
       "    </tr>\n",
       "    <tr>\n",
       "      <th>2</th>\n",
       "      <td>Movie</td>\n",
       "      <td>Joseph Williams</td>\n",
       "      <td>Don't Let Me Be Lonely Tonight</td>\n",
       "      <td>0CoSDzoNIKCRs124s9uTVy</td>\n",
       "      <td>3</td>\n",
       "      <td>0.952</td>\n",
       "      <td>0.663</td>\n",
       "      <td>170267</td>\n",
       "      <td>0.131</td>\n",
       "      <td>0.000</td>\n",
       "      <td>C</td>\n",
       "      <td>0.1030</td>\n",
       "      <td>-13.879</td>\n",
       "      <td>Minor</td>\n",
       "      <td>0.0362</td>\n",
       "      <td>99.488</td>\n",
       "      <td>5/4</td>\n",
       "      <td>0.368</td>\n",
       "    </tr>\n",
       "    <tr>\n",
       "      <th>3</th>\n",
       "      <td>Movie</td>\n",
       "      <td>Henri Salvador</td>\n",
       "      <td>Dis-moi Monsieur Gordon Cooper</td>\n",
       "      <td>0Gc6TVm52BwZD07Ki6tIvf</td>\n",
       "      <td>0</td>\n",
       "      <td>0.703</td>\n",
       "      <td>0.240</td>\n",
       "      <td>152427</td>\n",
       "      <td>0.326</td>\n",
       "      <td>0.000</td>\n",
       "      <td>C#</td>\n",
       "      <td>0.0985</td>\n",
       "      <td>-12.178</td>\n",
       "      <td>Major</td>\n",
       "      <td>0.0395</td>\n",
       "      <td>171.758</td>\n",
       "      <td>4/4</td>\n",
       "      <td>0.227</td>\n",
       "    </tr>\n",
       "    <tr>\n",
       "      <th>4</th>\n",
       "      <td>Movie</td>\n",
       "      <td>Fabien Nataf</td>\n",
       "      <td>Ouverture</td>\n",
       "      <td>0IuslXpMROHdEPvSl1fTQK</td>\n",
       "      <td>4</td>\n",
       "      <td>0.950</td>\n",
       "      <td>0.331</td>\n",
       "      <td>82625</td>\n",
       "      <td>0.225</td>\n",
       "      <td>0.123</td>\n",
       "      <td>F</td>\n",
       "      <td>0.2020</td>\n",
       "      <td>-21.150</td>\n",
       "      <td>Major</td>\n",
       "      <td>0.0456</td>\n",
       "      <td>140.576</td>\n",
       "      <td>4/4</td>\n",
       "      <td>0.390</td>\n",
       "    </tr>\n",
       "  </tbody>\n",
       "</table>\n",
       "</div>"
      ],
      "text/plain": [
       "   genre        artist_name                        track_name  \\\n",
       "0  Movie     Henri Salvador       C'est beau de faire un Show   \n",
       "1  Movie  Martin & les fées  Perdu d'avance (par Gad Elmaleh)   \n",
       "2  Movie    Joseph Williams    Don't Let Me Be Lonely Tonight   \n",
       "3  Movie     Henri Salvador    Dis-moi Monsieur Gordon Cooper   \n",
       "4  Movie       Fabien Nataf                         Ouverture   \n",
       "\n",
       "                 track_id  popularity  acousticness  danceability  \\\n",
       "0  0BRjO6ga9RKCKjfDqeFgWV           0         0.611         0.389   \n",
       "1  0BjC1NfoEOOusryehmNudP           1         0.246         0.590   \n",
       "2  0CoSDzoNIKCRs124s9uTVy           3         0.952         0.663   \n",
       "3  0Gc6TVm52BwZD07Ki6tIvf           0         0.703         0.240   \n",
       "4  0IuslXpMROHdEPvSl1fTQK           4         0.950         0.331   \n",
       "\n",
       "   duration_ms  energy  instrumentalness key  liveness  loudness   mode  \\\n",
       "0        99373   0.910             0.000  C#    0.3460    -1.828  Major   \n",
       "1       137373   0.737             0.000  F#    0.1510    -5.559  Minor   \n",
       "2       170267   0.131             0.000   C    0.1030   -13.879  Minor   \n",
       "3       152427   0.326             0.000  C#    0.0985   -12.178  Major   \n",
       "4        82625   0.225             0.123   F    0.2020   -21.150  Major   \n",
       "\n",
       "   speechiness    tempo time_signature  valence  \n",
       "0       0.0525  166.969            4/4    0.814  \n",
       "1       0.0868  174.003            4/4    0.816  \n",
       "2       0.0362   99.488            5/4    0.368  \n",
       "3       0.0395  171.758            4/4    0.227  \n",
       "4       0.0456  140.576            4/4    0.390  "
      ]
     },
     "execution_count": 8,
     "metadata": {},
     "output_type": "execute_result"
    }
   ],
   "source": [
    "if DATA_PATH.suffix.lower() in (\".parquet\", \".pq\"):\n",
    "    df = pd.read_parquet(DATA_PATH)\n",
    "else:\n",
    "    df = pd.read_csv(DATA_PATH)\n",
    "\n",
    "df = std_cols(df)\n",
    "df.head()"
   ]
  },
  {
   "cell_type": "code",
   "execution_count": 9,
   "id": "0b02f59c",
   "metadata": {},
   "outputs": [
    {
     "name": "stdout",
     "output_type": "stream",
     "text": [
      "track_id   : track_id\n",
      "track_name : track_name\n",
      "artist_name: artist_name\n",
      "genres_col : genre\n"
     ]
    }
   ],
   "source": [
    "track_id    = \"track_id\"\n",
    "track_name  = \"track_name\"\n",
    "artist_name = \"artist_name\"\n",
    "genres_col  = \"genre\"          \n",
    "playlist_id = None             \n",
    "\n",
    "print(\"track_id   :\", track_id)\n",
    "print(\"track_name :\", track_name)\n",
    "print(\"artist_name:\", artist_name)\n",
    "print(\"genres_col :\", genres_col)\n"
   ]
  },
  {
   "cell_type": "code",
   "execution_count": 10,
   "id": "70c1e456",
   "metadata": {},
   "outputs": [
    {
     "data": {
      "text/plain": [
       "['danceability',\n",
       " 'energy',\n",
       " 'valence',\n",
       " 'acousticness',\n",
       " 'instrumentalness',\n",
       " 'liveness',\n",
       " 'speechiness',\n",
       " 'tempo',\n",
       " 'loudness',\n",
       " 'duration_ms']"
      ]
     },
     "execution_count": 10,
     "metadata": {},
     "output_type": "execute_result"
    }
   ],
   "source": [
    "num_cols = df.select_dtypes(include=[np.number]).columns.tolist()\n",
    "inter = [c for c in COMMON_AUDIO_FEATS if c in num_cols]\n",
    "audio_cols = inter if len(inter) >= 3 else num_cols\n",
    "assert len(audio_cols) >= 3, f\"Нужно ≥3 числовых признака, найдено {len(audio_cols)} → {audio_cols}\"\n",
    "audio_cols\n"
   ]
  },
  {
   "cell_type": "code",
   "execution_count": null,
   "id": "32a2d1e2",
   "metadata": {},
   "outputs": [],
   "source": [
    "scaler = StandardScaler()\n",
    "X_num = scaler.fit_transform(df[audio_cols].astype(float).fillna(0.0))\n",
    "X_parts = [sparse.csr_matrix(X_num)]"
   ]
  },
  {
   "cell_type": "code",
   "execution_count": null,
   "id": "f69a4db3",
   "metadata": {},
   "outputs": [],
   "source": [
    "mlb = None\n",
    "if genres_col in df.columns:\n",
    "    genres_lists = parse_genres_col(df[genres_col])\n",
    "    mlb = MultiLabelBinarizer(sparse_output=True)\n",
    "    X_gen = mlb.fit_transform(genres_lists)\n",
    "    if hasattr(X_gen, \"tocsr\"):\n",
    "        X_gen = X_gen.tocsr()\n",
    "    X_parts.append(X_gen)"
   ]
  },
  {
   "cell_type": "code",
   "execution_count": null,
   "id": "d82baf5d",
   "metadata": {},
   "outputs": [
    {
     "data": {
      "text/plain": [
       "(232725, 37)"
      ]
     },
     "execution_count": 13,
     "metadata": {},
     "output_type": "execute_result"
    }
   ],
   "source": [
    "X = sparse.hstack(X_parts).tocsr()\n",
    "X = sk_normalize(X)  \n",
    "X.shape"
   ]
  },
  {
   "cell_type": "code",
   "execution_count": null,
   "id": "2ce1cbdd",
   "metadata": {},
   "outputs": [],
   "source": [
    "dim = X.shape[1]\n",
    "trees = 100 "
   ]
  },
  {
   "cell_type": "code",
   "execution_count": 15,
   "id": "589778c4",
   "metadata": {},
   "outputs": [
    {
     "name": "stderr",
     "output_type": "stream",
     "text": [
      "Building Annoy: 100%|██████████| 232725/232725 [00:05<00:00, 44744.96it/s]\n"
     ]
    },
    {
     "name": "stdout",
     "output_type": "stream",
     "text": [
      "✅ Готово! Артефакты в: /Users/akdodovkhusrav/Desktop/Zypl_ai/hw2/artifacts\n"
     ]
    }
   ],
   "source": [
    "index = AnnoyIndex(dim, metric=\"angular\")\n",
    "for i in tqdm(range(X.shape[0]), desc=\"Building Annoy\"):\n",
    "    v = X.getrow(i).toarray().ravel().astype(\"float32\")\n",
    "    index.add_item(i, v)\n",
    "\n",
    "index.build(trees)\n",
    "index.save(str(ART_DIR / \"annoy_index.ann\"))\n",
    "\n",
    "joblib.dump(scaler, ART_DIR / \"scaler.joblib\")\n",
    "if mlb is not None:\n",
    "    joblib.dump(mlb, ART_DIR / \"mlb_genres.joblib\")\n",
    "\n",
    "keep_cols = [c for c in [track_id, track_name, artist_name, \"image_url\",\"preview_url\",\"album_name\",\"popularity\",\"year\"] if c in df.columns]\n",
    "if not keep_cols:\n",
    "    keep_cols = [track_name]\n",
    "\n",
    "id_map = df[keep_cols].copy()\n",
    "id_map.insert(0, \"row_id\", np.arange(len(id_map)))\n",
    "id_map.to_parquet(ART_DIR / \"id_map.parquet\", index=False)\n",
    "\n",
    "with open(ART_DIR / \"feature_cols.json\",\"w\") as f:\n",
    "    json.dump({\"audio_cols\": audio_cols, \"genres_col\": genres_col}, f, ensure_ascii=False, indent=2)\n",
    "\n",
    "with open(ART_DIR / \"meta.json\",\"w\") as f:\n",
    "    json.dump({\n",
    "        \"track_id_col\": track_id,\n",
    "        \"track_name_col\": track_name,\n",
    "        \"artist_name_col\": artist_name,\n",
    "        \"playlist_id_col\": playlist_id,\n",
    "        \"n_rows\": int(df.shape[0]),\n",
    "        \"dim\": int(dim),\n",
    "        \"trees\": int(trees)\n",
    "    }, f, ensure_ascii=False, indent=2)\n",
    "\n",
    "print(\"✅ Готово! Артефакты в:\", ART_DIR.resolve())"
   ]
  },
  {
   "cell_type": "code",
   "execution_count": 2,
   "id": "a040db49",
   "metadata": {},
   "outputs": [
    {
     "name": "stdout",
     "output_type": "stream",
     "text": [
      "['row_id', 'track_id', 'track_name', 'artist_name', 'popularity']\n",
      "   row_id                track_id                        track_name  \\\n",
      "0       0  0BRjO6ga9RKCKjfDqeFgWV       C'est beau de faire un Show   \n",
      "1       1  0BjC1NfoEOOusryehmNudP  Perdu d'avance (par Gad Elmaleh)   \n",
      "2       2  0CoSDzoNIKCRs124s9uTVy    Don't Let Me Be Lonely Tonight   \n",
      "3       3  0Gc6TVm52BwZD07Ki6tIvf    Dis-moi Monsieur Gordon Cooper   \n",
      "4       4  0IuslXpMROHdEPvSl1fTQK                         Ouverture   \n",
      "\n",
      "         artist_name  popularity  \n",
      "0     Henri Salvador           0  \n",
      "1  Martin & les fées           1  \n",
      "2    Joseph Williams           3  \n",
      "3     Henri Salvador           0  \n",
      "4       Fabien Nataf           4  \n"
     ]
    }
   ],
   "source": [
    "import pandas as pd\n",
    "df = pd.read_csv(\"/Users/akdodovkhusrav/Desktop/Zypl_ai/hw2/spotify_rec_system_project/artifacts/id_map.csv\")\n",
    "print(df.columns.tolist())\n",
    "print(df.head())\n"
   ]
  },
  {
   "cell_type": "code",
   "execution_count": null,
   "id": "64631ae9",
   "metadata": {},
   "outputs": [],
   "source": []
  },
  {
   "cell_type": "code",
   "execution_count": null,
   "id": "0ea468c9",
   "metadata": {},
   "outputs": [],
   "source": []
  },
  {
   "cell_type": "code",
   "execution_count": null,
   "id": "ae5c1a98",
   "metadata": {},
   "outputs": [],
   "source": []
  },
  {
   "cell_type": "code",
   "execution_count": null,
   "id": "b80c04b7",
   "metadata": {},
   "outputs": [],
   "source": []
  },
  {
   "cell_type": "code",
   "execution_count": null,
   "id": "f1b429d3",
   "metadata": {},
   "outputs": [],
   "source": []
  },
  {
   "cell_type": "code",
   "execution_count": null,
   "id": "1ccc33f1",
   "metadata": {},
   "outputs": [],
   "source": []
  },
  {
   "cell_type": "code",
   "execution_count": null,
   "id": "bf555b2e",
   "metadata": {},
   "outputs": [],
   "source": []
  },
  {
   "cell_type": "code",
   "execution_count": null,
   "id": "0a85c00a",
   "metadata": {},
   "outputs": [],
   "source": []
  },
  {
   "cell_type": "code",
   "execution_count": null,
   "id": "76124e24",
   "metadata": {},
   "outputs": [],
   "source": []
  },
  {
   "cell_type": "code",
   "execution_count": null,
   "id": "9fe45e4b",
   "metadata": {},
   "outputs": [],
   "source": []
  }
 ],
 "metadata": {
  "kernelspec": {
   "display_name": ".venv",
   "language": "python",
   "name": "python3"
  },
  "language_info": {
   "codemirror_mode": {
    "name": "ipython",
    "version": 3
   },
   "file_extension": ".py",
   "mimetype": "text/x-python",
   "name": "python",
   "nbconvert_exporter": "python",
   "pygments_lexer": "ipython3",
   "version": "3.11.9"
  }
 },
 "nbformat": 4,
 "nbformat_minor": 5
}
